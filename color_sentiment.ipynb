{
 "cells": [
  {
   "cell_type": "code",
   "execution_count": 66,
   "id": "13f66206-af90-4152-842e-08bd680a0507",
   "metadata": {
    "tags": []
   },
   "outputs": [],
   "source": [
    "import numpy as np\n",
    "import pandas as pd\n",
    "from sklearn import preprocessing\n",
    "from sklearn.decomposition import PCA\n",
    "from sklearn.decomposition import SparsePCA\n",
    "import matplotlib.pyplot as plt\n",
    "import time\n",
    "from sklearn.cluster import KMeans\n",
    "from sklearn.tree import DecisionTreeClassifier\n",
    "from sklearn.ensemble import RandomForestRegressor\n",
    "from sklearn.metrics import accuracy_score, precision_recall_fscore_support,classification_report\n",
    "from sklearn.model_selection import train_test_split\n",
    "from sklearn import metrics \n",
    "from sklearn.linear_model import BayesianRidge, LinearRegression, ElasticNet\n",
    "from sklearn.metrics import mean_squared_error as MSE\n",
    "from sklearn.svm import SVR\n",
    "from sklearn.ensemble import GradientBoostingRegressor\n",
    "from sklearn.model_selection import cross_val_score  # 交叉检验\n",
    "from sklearn.neural_network import MLPRegressor\n",
    "\n",
    "from sklearn.ensemble import RandomForestClassifier\n",
    "\n",
    "import numpy as np\n",
    "import matplotlib.pyplot as plt\n",
    "import matplotlib\n",
    "import os\n",
    "import scipy\n",
    "from PIL import Image\n",
    "from numpy import *\n",
    "import cv2\n",
    "import torch.nn as nn\n",
    "import torch\n",
    "#from model import ResNet, BasicBlock, Bottleneck, resnet34\n",
    "import torch.optim as optim\n",
    "import torchvision.models as models\n",
    "from torch.utils.data import DataLoader\n",
    "\n",
    "from sklearn.model_selection import cross_val_score\n",
    "from sklearn.datasets import make_classification\n",
    "from sklearn.discriminant_analysis import LinearDiscriminantAnalysis\n",
    "from mpl_toolkits.mplot3d import Axes3D\n",
    "from sklearn.feature_selection import SelectFromModel\n",
    "\n",
    "from matplotlib.font_manager import FontProperties  \n",
    "\n",
    "from pylab import *"
   ]
  },
  {
   "cell_type": "code",
   "execution_count": 100,
   "id": "5da60a46-0658-42aa-a546-94c285fa15d7",
   "metadata": {
    "tags": []
   },
   "outputs": [
    {
     "name": "stdout",
     "output_type": "stream",
     "text": [
      "['黄色' '蓝色' '绿色' '红色' '紫色' '棕色' '粉色' '黑色' '白色' '其他']\n"
     ]
    },
    {
     "name": "stderr",
     "output_type": "stream",
     "text": [
      "C:\\Users\\55019\\AppData\\Local\\anaconda3\\Lib\\site-packages\\sklearn\\cluster\\_kmeans.py:1412: FutureWarning: The default value of `n_init` will change from 10 to 'auto' in 1.4. Set the value of `n_init` explicitly to suppress the warning\n",
      "  super()._check_params_vs_input(X, default_n_init=10)\n",
      "C:\\Users\\55019\\AppData\\Local\\anaconda3\\Lib\\site-packages\\sklearn\\cluster\\_kmeans.py:1436: UserWarning: KMeans is known to have a memory leak on Windows with MKL, when there are less chunks than available threads. You can avoid it by setting the environment variable OMP_NUM_THREADS=1.\n",
      "  warnings.warn(\n"
     ]
    },
    {
     "name": "stdout",
     "output_type": "stream",
     "text": [
      "accuracy: 0.48148148148148145\n",
      "簇心=[[11.375      15.5        15.75        5.625       8.125       7.875\n",
      "   1.625       5.3125      5.8125     23.0625    ]\n",
      " [ 6.27272727 14.09090909  9.18181818  8.54545455  8.72727273 12.81818182\n",
      "   8.36363636  4.54545455 15.45454545 12.        ]]\n",
      "测试结果：[1 1 0 0 0 1 0 0 1 1 1 0 0 0 0 1 0 0 0 0 0 1 0 1 1 1 0]\n",
      "CH分数=5.559306070791478\n",
      "轮廓系数=0.14027553751722494\n",
      "[2 5 0 9 1 4 3 8 6 7]\n",
      "[0.10738503 0.09419653 0.20286786 0.06713019 0.07392854 0.18546766\n",
      " 0.05824443 0.04791519 0.06413226 0.0987323 ]\n"
     ]
    },
    {
     "data": {
      "image/png": "[encoded data removed]",
      "text/plain": [
       "<Figure size 1000x600 with 1 Axes>"
      ]
     },
     "metadata": {},
     "output_type": "display_data"
    }
   ],
   "source": [
    "fd=np.array(pd.read_csv('C:\\\\Users\\\\55019\\\\Desktop\\\\result2\\\\result_resnet152_feature2.csv'))\n",
    "score={}\n",
    "for i in fd:\n",
    "    score[i[1]]=i[3]\n",
    "\n",
    "fd=np.array(pd.read_csv('D:\\\\zsy\\\\zsy颜色统计.csv',header=None))\n",
    "features=fd[0,1:11]\n",
    "print(features)\n",
    "x_train=[]\n",
    "y_train=[]\n",
    "for i in fd[1:]:\n",
    "    x_train.append(list(i[1:11].astype(int)))\n",
    "    y_train.append(score[str(int(i[0]))+'.png'])\n",
    "    #figures[str(int(i[0]))+'.png']=list(i[1:11].astype(int))+[score[str(int(i[0]))+'.png']]\n",
    "#print(figures)\n",
    "\n",
    "kmeans=KMeans(n_clusters=2)\n",
    "y=kmeans.fit(x_train)\n",
    "y=kmeans.predict(x_train)\n",
    "\n",
    "score=0\n",
    "for i in range(len(y)):\n",
    "    if y_train[i]==y[i]:\n",
    "        score+=1\n",
    "print('accuracy:',score/len(y))\n",
    "print(\"簇心={}\".format(kmeans.cluster_centers_))  #打印簇心\n",
    "print(\"测试结果：{}\".format(y))  #预测样本\n",
    "print(\"CH分数={}\".format(metrics.calinski_harabasz_score(x_train, kmeans.labels_))) \n",
    "print(\"轮廓系数={}\".format(metrics.silhouette_score(x_train,kmeans.labels_,metric='euclidean'))) \n",
    "\n",
    "forest = RandomForestClassifier(random_state=0)\n",
    "forest.fit(x_train, y_train)\n",
    "importances=forest.feature_importances_\n",
    "index=np.argsort(importances)[::-1]\n",
    "print(index)\n",
    "print(importances)\n",
    "\n",
    "\n",
    "mpl.rcParams['font.sans-serif'] = ['SimHei']\n",
    "colors = plt.cm.viridis(np.linspace(0, 1, len(features)))\n",
    "fig, ax = plt.subplots(figsize=(10, 6))\n",
    "ax.barh(features, importances, color=colors)\n",
    "ax.invert_yaxis()  # 翻转y轴，使得最大的特征在最上面\n",
    "ax.set_xlabel('特征重要性', fontsize=12)  # 图形的x标签\n",
    "    \n",
    "ax.spines['top'].set_visible(False)  # 去掉上边框\n",
    "ax.spines['right'].set_visible(False)  # 去掉右边框\n",
    " \n",
    "# 保存图形\n",
    "#plt.savefig('D:\\\\zsy\\\\特征重要性.png', dpi=600, bbox_inches='tight')\n",
    "plt.show()\n"
   ]
  },
  {
   "cell_type": "code",
   "execution_count": 101,
   "id": "f8548891-0656-43d6-befb-f8b8f956f1a3",
   "metadata": {
    "tags": []
   },
   "outputs": [
    {
     "name": "stderr",
     "output_type": "stream",
     "text": [
      "C:\\Users\\55019\\AppData\\Local\\anaconda3\\Lib\\site-packages\\sklearn\\cluster\\_kmeans.py:1412: FutureWarning: The default value of `n_init` will change from 10 to 'auto' in 1.4. Set the value of `n_init` explicitly to suppress the warning\n",
      "  super()._check_params_vs_input(X, default_n_init=10)\n",
      "C:\\Users\\55019\\AppData\\Local\\anaconda3\\Lib\\site-packages\\sklearn\\cluster\\_kmeans.py:1436: UserWarning: KMeans is known to have a memory leak on Windows with MKL, when there are less chunks than available threads. You can avoid it by setting the environment variable OMP_NUM_THREADS=1.\n",
      "  warnings.warn(\n"
     ]
    },
    {
     "name": "stdout",
     "output_type": "stream",
     "text": [
      "[0, 0, 1, 0, 1, 1, 0, 1, 0, 0, 1, 1, 1, 0, 0, 0, 0, 0, 0, 0, 0, 0, 0, 0, 1, 0, 1]\n",
      "accuracy: 0.7037037037037037\n",
      "簇心=[[ 9.7        12.2        13.6        12.35      ]\n",
      " [22.71428571  3.28571429 18.71428571  2.28571429]]\n",
      "测试结果：[0 0 0 0 1 0 0 1 0 0 0 0 1 1 1 0 1 0 0 0 0 0 0 0 0 0 1]\n",
      "CH分数=12.060257749912923\n",
      "轮廓系数=0.2851972247252317\n"
     ]
    }
   ],
   "source": [
    "feature=[features[2],features[5],features[1],features[8]]\n",
    "data=[]\n",
    "for i in x_train:\n",
    "    data.append([i[2],i[5],i[1],i[8]])\n",
    "data=np.array(data)\n",
    "\n",
    "kmeans=KMeans(n_clusters=2)\n",
    "y=kmeans.fit(data)\n",
    "y=kmeans.predict(data)\n",
    "print(y_train)\n",
    "score=0\n",
    "for i in range(len(y)):\n",
    "    if y_train[i]==y[i]:\n",
    "        score+=1\n",
    "print('accuracy:',score/len(y))\n",
    "print(\"簇心={}\".format(kmeans.cluster_centers_))  #打印簇心\n",
    "print(\"测试结果：{}\".format(y))  #预测样本\n",
    "print(\"CH分数={}\".format(metrics.calinski_harabasz_score(data, kmeans.labels_))) \n",
    "print(\"轮廓系数={}\".format(metrics.silhouette_score(data,kmeans.labels_,metric='euclidean'))) "
   ]
  },
  {
   "cell_type": "code",
   "execution_count": null,
   "id": "e4f187d9-bf6e-4597-8691-0d44f88654c0",
   "metadata": {},
   "outputs": [],
   "source": []
  },
  {
   "cell_type": "code",
   "execution_count": null,
   "id": "f09d4a1d-8378-4911-b743-9d75b5070596",
   "metadata": {},
   "outputs": [],
   "source": []
  },
  {
   "cell_type": "code",
   "execution_count": null,
   "id": "1357b766-06c1-409c-8791-dbfa2ac431e6",
   "metadata": {},
   "outputs": [],
   "source": []
  },
  {
   "cell_type": "code",
   "execution_count": null,
   "id": "29cef5f1-09fd-4409-9114-bfa9720d62d8",
   "metadata": {},
   "outputs": [],
   "source": []
  }
 ],
 "metadata": {
  "kernelspec": {
   "display_name": "Python 3 (ipykernel)",
   "language": "python",
   "name": "python3"
  },
  "language_info": {
   "codemirror_mode": {
    "name": "ipython",
    "version": 3
   },
   "file_extension": ".py",
   "mimetype": "text/x-python",
   "name": "python",
   "nbconvert_exporter": "python",
   "pygments_lexer": "ipython3",
   "version": "3.11.5"
  }
 },
 "nbformat": 4,
 "nbformat_minor": 5
}
